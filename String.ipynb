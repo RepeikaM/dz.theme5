{
 "cells": [
  {
   "cell_type": "code",
   "execution_count": 1,
   "id": "db4337c9-55d3-49c9-9118-426f06decf54",
   "metadata": {},
   "outputs": [],
   "source": [
    "my_string = 'Hello world!'"
   ]
  },
  {
   "cell_type": "code",
   "execution_count": null,
   "id": "38bb6025-dc5d-42ac-aabf-70d7f9890f1c",
   "metadata": {},
   "outputs": [],
   "source": []
  }
 ],
 "metadata": {
  "kernelspec": {
   "display_name": "Python [conda env:base] *",
   "language": "python",
   "name": "conda-base-py"
  },
  "language_info": {
   "codemirror_mode": {
    "name": "ipython",
    "version": 3
   },
   "file_extension": ".py",
   "mimetype": "text/x-python",
   "name": "python",
   "nbconvert_exporter": "python",
   "pygments_lexer": "ipython3",
   "version": "3.12.7"
  }
 },
 "nbformat": 4,
 "nbformat_minor": 5
}
